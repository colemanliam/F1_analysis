{
 "cells": [
  {
   "cell_type": "code",
   "execution_count": 55,
   "metadata": {},
   "outputs": [],
   "source": [
    "import bs4 as bs\n",
    "import urllib.request\n",
    "import pandas as pd\n",
    "import numpy as np\n",
    "import matplotlib.pyplot as plt\n",
    "import seaborn as sns\n",
    "from functools import wraps\n",
    "from statistics import mean"
   ]
  },
  {
   "cell_type": "code",
   "execution_count": 3,
   "metadata": {},
   "outputs": [],
   "source": [
    "def timer(orig_func):\n",
    "    \"\"\"\n",
    "    decorator for logging time of function.\n",
    "    \"\"\"\n",
    "    import time\n",
    "    \n",
    "    @wraps(orig_func)\n",
    "    def wrapper(*args, **kwargs):\n",
    "        t1 = time.time()\n",
    "        result = orig_func(*args, *kwargs)\n",
    "        t2 = time.time() - t1\n",
    "        print(f\"{orig_func.__name__} ran in: {round(t2,3)} seconds\")\n",
    "        return result\n",
    "    \n",
    "    return wrapper"
   ]
  },
  {
   "cell_type": "code",
   "execution_count": 4,
   "metadata": {},
   "outputs": [
    {
     "data": {
      "text/html": [
       "<div>\n",
       "<style scoped>\n",
       "    .dataframe tbody tr th:only-of-type {\n",
       "        vertical-align: middle;\n",
       "    }\n",
       "\n",
       "    .dataframe tbody tr th {\n",
       "        vertical-align: top;\n",
       "    }\n",
       "\n",
       "    .dataframe thead th {\n",
       "        text-align: right;\n",
       "    }\n",
       "</style>\n",
       "<table border=\"1\" class=\"dataframe\">\n",
       "  <thead>\n",
       "    <tr style=\"text-align: right;\">\n",
       "      <th></th>\n",
       "      <th>Unnamed: 0</th>\n",
       "      <th>Pos</th>\n",
       "      <th>No</th>\n",
       "      <th>Driver</th>\n",
       "      <th>Car</th>\n",
       "      <th>Laps</th>\n",
       "      <th>Time/Retired</th>\n",
       "      <th>PTS</th>\n",
       "      <th>Unnamed: 8</th>\n",
       "    </tr>\n",
       "  </thead>\n",
       "  <tbody>\n",
       "    <tr>\n",
       "      <th>0</th>\n",
       "      <td>NaN</td>\n",
       "      <td>1</td>\n",
       "      <td>27</td>\n",
       "      <td>Ayrton Senna SEN</td>\n",
       "      <td>McLaren Honda</td>\n",
       "      <td>72</td>\n",
       "      <td>1:52:32.829</td>\n",
       "      <td>9</td>\n",
       "      <td>NaN</td>\n",
       "    </tr>\n",
       "    <tr>\n",
       "      <th>1</th>\n",
       "      <td>NaN</td>\n",
       "      <td>2</td>\n",
       "      <td>4</td>\n",
       "      <td>Jean Alesi ALE</td>\n",
       "      <td>Tyrrell Ford</td>\n",
       "      <td>72</td>\n",
       "      <td>+8.685s</td>\n",
       "      <td>6</td>\n",
       "      <td>NaN</td>\n",
       "    </tr>\n",
       "    <tr>\n",
       "      <th>2</th>\n",
       "      <td>NaN</td>\n",
       "      <td>3</td>\n",
       "      <td>5</td>\n",
       "      <td>Thierry Boutsen BOU</td>\n",
       "      <td>Williams Renault</td>\n",
       "      <td>72</td>\n",
       "      <td>+54.080s</td>\n",
       "      <td>4</td>\n",
       "      <td>NaN</td>\n",
       "    </tr>\n",
       "    <tr>\n",
       "      <th>3</th>\n",
       "      <td>NaN</td>\n",
       "      <td>4</td>\n",
       "      <td>20</td>\n",
       "      <td>Nelson Piquet PIQ</td>\n",
       "      <td>Benetton Ford</td>\n",
       "      <td>72</td>\n",
       "      <td>+68.358s</td>\n",
       "      <td>3</td>\n",
       "      <td>NaN</td>\n",
       "    </tr>\n",
       "    <tr>\n",
       "      <th>4</th>\n",
       "      <td>NaN</td>\n",
       "      <td>5</td>\n",
       "      <td>8</td>\n",
       "      <td>Stefano Modena MOD</td>\n",
       "      <td>Brabham Judd</td>\n",
       "      <td>72</td>\n",
       "      <td>+69.503s</td>\n",
       "      <td>2</td>\n",
       "      <td>NaN</td>\n",
       "    </tr>\n",
       "  </tbody>\n",
       "</table>\n",
       "</div>"
      ],
      "text/plain": [
       "   Unnamed: 0 Pos  No               Driver               Car  Laps  \\\n",
       "0         NaN   1  27     Ayrton Senna SEN     McLaren Honda    72   \n",
       "1         NaN   2   4       Jean Alesi ALE      Tyrrell Ford    72   \n",
       "2         NaN   3   5  Thierry Boutsen BOU  Williams Renault    72   \n",
       "3         NaN   4  20    Nelson Piquet PIQ     Benetton Ford    72   \n",
       "4         NaN   5   8   Stefano Modena MOD      Brabham Judd    72   \n",
       "\n",
       "  Time/Retired  PTS  Unnamed: 8  \n",
       "0  1:52:32.829    9         NaN  \n",
       "1      +8.685s    6         NaN  \n",
       "2     +54.080s    4         NaN  \n",
       "3     +68.358s    3         NaN  \n",
       "4     +69.503s    2         NaN  "
      ]
     },
     "execution_count": 4,
     "metadata": {},
     "output_type": "execute_result"
    }
   ],
   "source": [
    "source = urllib.request.urlopen(f\"https://www.formula1.com/en/results.html/1990/races/64/united-states/race-result.html\").read()\n",
    "soup = bs.BeautifulSoup(source,'lxml')\n",
    "\n",
    "table = soup.find_all('table')[0] \n",
    "df = pd.read_html(str(table), flavor='bs4', header=[0])[0]\n",
    "df.head()"
   ]
  },
  {
   "cell_type": "code",
   "execution_count": 5,
   "metadata": {},
   "outputs": [],
   "source": [
    "HOMEPAGE = 'https://www.formula1.com/'\n",
    "YEAR = '1990'"
   ]
  },
  {
   "cell_type": "code",
   "execution_count": 6,
   "metadata": {},
   "outputs": [],
   "source": [
    "@timer\n",
    "def get_race_urls(year):\n",
    "    race_urls = []\n",
    "    source = urllib.request.urlopen(f\"https://www.formula1.com/en/results.html/{YEAR}/races.html\").read()\n",
    "    soup = bs.BeautifulSoup(source,'lxml')\n",
    "    \n",
    "    for url in soup.find_all('a'):\n",
    "        if YEAR in str(url.get('href')) and 'race-result' in str(url.get('href')) and url.get('href') not in race_urls:\n",
    "            race_urls.append(url.get('href'))\n",
    "    return race_urls"
   ]
  },
  {
   "cell_type": "code",
   "execution_count": 97,
   "metadata": {},
   "outputs": [
    {
     "data": {
      "text/html": [
       "<div>\n",
       "<style scoped>\n",
       "    .dataframe tbody tr th:only-of-type {\n",
       "        vertical-align: middle;\n",
       "    }\n",
       "\n",
       "    .dataframe tbody tr th {\n",
       "        vertical-align: top;\n",
       "    }\n",
       "\n",
       "    .dataframe thead th {\n",
       "        text-align: right;\n",
       "    }\n",
       "</style>\n",
       "<table border=\"1\" class=\"dataframe\">\n",
       "  <thead>\n",
       "    <tr style=\"text-align: right;\">\n",
       "      <th></th>\n",
       "      <th>year</th>\n",
       "      <th>lapped_position</th>\n",
       "      <th>time_to_second</th>\n",
       "      <th>average_delay_CR</th>\n",
       "    </tr>\n",
       "  </thead>\n",
       "  <tbody>\n",
       "  </tbody>\n",
       "</table>\n",
       "</div>"
      ],
      "text/plain": [
       "Empty DataFrame\n",
       "Columns: [year, lapped_position, time_to_second, average_delay_CR]\n",
       "Index: []"
      ]
     },
     "execution_count": 97,
     "metadata": {},
     "output_type": "execute_result"
    }
   ],
   "source": [
    "yearly_data = {\n",
    "    'year': [],\n",
    "    'lapped_position': [],\n",
    "    'time_to_second': [],\n",
    "    'average_delay_CR': []\n",
    "}\n",
    "output_df = pd.DataFrame(yearly_data)\n",
    "output_df"
   ]
  },
  {
   "cell_type": "code",
   "execution_count": 98,
   "metadata": {},
   "outputs": [],
   "source": [
    "def get_race_results_by_year (YEAR, output_df):\n",
    "    race_urls = get_race_urls(YEAR)\n",
    "    lapped_position=[]\n",
    "    average_time=[]\n",
    "    time_to_second=[]\n",
    "\n",
    "    for n, race in enumerate(race_urls):\n",
    "        placeholder = [0 for i in range(n)]\n",
    "        race_name = race.split('/')[6]\n",
    "\n",
    "        results_page = urllib.request.urlopen(f\"{HOMEPAGE}{race}\").read()\n",
    "        race_results = bs.BeautifulSoup(results_page,'lxml')\n",
    "\n",
    "        table = race_results.find_all('table')[0] \n",
    "        df = pd.read_html(str(table), flavor='bs4', header=[0])[0]\n",
    "        df.drop([\"Unnamed: 0\",\"Unnamed: 8\"], axis=1, inplace=True)\n",
    "        df.set_index('No', inplace=True)\n",
    "\n",
    "        #getting lapped position\n",
    "        try:\n",
    "            sub = 'lap'\n",
    "            df['lapped_position'] = df['Time/Retired'].str.find(sub)\n",
    "            lapped_racer = df.lapped_position[df.lapped_position >= 0].index.tolist()\n",
    "            lapped_position.append((int(df.at[lapped_racer[0], 'Pos'])))\n",
    "            lapped_position_race = (int(df.at[lapped_racer[0], 'Pos']))\n",
    "        except:\n",
    "            lapped_position.append(-1)\n",
    "\n",
    "        #getting time to second\n",
    "        if lapped_position_race == 2:\n",
    "            pass\n",
    "        else:\n",
    "            try:\n",
    "                time_to_second.append(float(df.iloc[1, 4].strip('+s')))\n",
    "            except:\n",
    "                pass\n",
    "\n",
    "\n",
    "        #getting average time of completed racers\n",
    "        times=[]\n",
    "        for i in range(1, lapped_position_race-1):\n",
    "            try:\n",
    "                time = float(df.iloc[i, 4].strip('+s'))\n",
    "            except:\n",
    "                pass\n",
    "            times.append(time)\n",
    "\n",
    "        if len(times) != 0:\n",
    "            average_time.append(mean(times))\n",
    "\n",
    "    #getting output ready\n",
    "    lapped_position = mean(lapped_position) if len(lapped_position) != 0 else -1\n",
    "    time_to_second = mean(time_to_second) if len(time_to_second) != 0 else -1\n",
    "    average_time = mean(average_time) if len(average_time) != 0 else -1\n",
    "\n",
    "\n",
    "    #adding values to output\n",
    "    new_row = {'year': YEAR, 'lapped_position': lapped_position, 'time_to_second': time_to_second, 'average_delay_CR': average_time}\n",
    "\n",
    "    output_df = output_df.append(new_row, ignore_index=True)\n",
    "    return output_df\n",
    "\n"
   ]
  },
  {
   "cell_type": "code",
   "execution_count": 95,
   "metadata": {},
   "outputs": [],
   "source": [
    "YEARS = range(1980, 2021)\n",
    "YEARS = [str(year) for year in YEARS]\n"
   ]
  },
  {
   "cell_type": "code",
   "execution_count": 90,
   "metadata": {},
   "outputs": [
    {
     "data": {
      "text/html": [
       "<div>\n",
       "<style scoped>\n",
       "    .dataframe tbody tr th:only-of-type {\n",
       "        vertical-align: middle;\n",
       "    }\n",
       "\n",
       "    .dataframe tbody tr th {\n",
       "        vertical-align: top;\n",
       "    }\n",
       "\n",
       "    .dataframe thead th {\n",
       "        text-align: right;\n",
       "    }\n",
       "</style>\n",
       "<table border=\"1\" class=\"dataframe\">\n",
       "  <thead>\n",
       "    <tr style=\"text-align: right;\">\n",
       "      <th></th>\n",
       "      <th>year</th>\n",
       "      <th>lapped_position</th>\n",
       "      <th>time_to_second</th>\n",
       "      <th>average_delay_CR</th>\n",
       "    </tr>\n",
       "  </thead>\n",
       "  <tbody>\n",
       "    <tr>\n",
       "      <th>0</th>\n",
       "      <td>1980</td>\n",
       "      <td>5.571429</td>\n",
       "      <td>23.705643</td>\n",
       "      <td>50.917952</td>\n",
       "    </tr>\n",
       "    <tr>\n",
       "      <th>1</th>\n",
       "      <td>1981</td>\n",
       "      <td>6.533333</td>\n",
       "      <td>15.822533</td>\n",
       "      <td>48.994133</td>\n",
       "    </tr>\n",
       "  </tbody>\n",
       "</table>\n",
       "</div>"
      ],
      "text/plain": [
       "   year  lapped_position  time_to_second  average_delay_CR\n",
       "0  1980         5.571429       23.705643         50.917952\n",
       "1  1981         6.533333       15.822533         48.994133"
      ]
     },
     "execution_count": 90,
     "metadata": {},
     "output_type": "execute_result"
    }
   ],
   "source": [
    "output_df"
   ]
  },
  {
   "cell_type": "code",
   "execution_count": 99,
   "metadata": {},
   "outputs": [
    {
     "name": "stdout",
     "output_type": "stream",
     "text": [
      "get_race_urls ran in: 0.154 seconds\n"
     ]
    },
    {
     "ename": "TypeError",
     "evalue": "object of type 'float' has no len()",
     "output_type": "error",
     "traceback": [
      "\u001b[1;31m---------------------------------------------------------------------------\u001b[0m",
      "\u001b[1;31mTypeError\u001b[0m                                 Traceback (most recent call last)",
      "\u001b[1;32mc:\\repos\\project1\\F1 analysis\\Untitled-1.ipynb Cell 10'\u001b[0m in \u001b[0;36m<cell line: 1>\u001b[1;34m()\u001b[0m\n\u001b[0;32m      <a href='vscode-notebook-cell:/c%3A/repos/project1/F1%20analysis/Untitled-1.ipynb#ch0000009?line=0'>1</a>\u001b[0m \u001b[39mfor\u001b[39;00m YEAR \u001b[39min\u001b[39;00m YEARS:\n\u001b[1;32m----> <a href='vscode-notebook-cell:/c%3A/repos/project1/F1%20analysis/Untitled-1.ipynb#ch0000009?line=1'>2</a>\u001b[0m     output_df \u001b[39m=\u001b[39m get_race_results_by_year(YEAR, output_df)\n\u001b[0;32m      <a href='vscode-notebook-cell:/c%3A/repos/project1/F1%20analysis/Untitled-1.ipynb#ch0000009?line=2'>3</a>\u001b[0m output_df\n",
      "\u001b[1;32mc:\\repos\\project1\\F1 analysis\\Untitled-1.ipynb Cell 7'\u001b[0m in \u001b[0;36mget_race_results_by_year\u001b[1;34m(YEAR, output_df)\u001b[0m\n\u001b[0;32m     <a href='vscode-notebook-cell:/c%3A/repos/project1/F1%20analysis/Untitled-1.ipynb#ch0000007?line=50'>51</a>\u001b[0m \u001b[39m#getting output ready\u001b[39;00m\n\u001b[0;32m     <a href='vscode-notebook-cell:/c%3A/repos/project1/F1%20analysis/Untitled-1.ipynb#ch0000007?line=51'>52</a>\u001b[0m lapped_position \u001b[39m=\u001b[39m mean(lapped_position) \u001b[39mif\u001b[39;00m \u001b[39mlen\u001b[39m(lapped_position) \u001b[39m!=\u001b[39m \u001b[39m0\u001b[39m \u001b[39melse\u001b[39;00m \u001b[39m-\u001b[39m\u001b[39m1\u001b[39m\n\u001b[1;32m---> <a href='vscode-notebook-cell:/c%3A/repos/project1/F1%20analysis/Untitled-1.ipynb#ch0000007?line=52'>53</a>\u001b[0m time_to_second \u001b[39m=\u001b[39m mean(time_to_second) \u001b[39mif\u001b[39;00m \u001b[39mlen\u001b[39;49m(lapped_position) \u001b[39m!=\u001b[39m \u001b[39m0\u001b[39m \u001b[39melse\u001b[39;00m \u001b[39m-\u001b[39m\u001b[39m1\u001b[39m\n\u001b[0;32m     <a href='vscode-notebook-cell:/c%3A/repos/project1/F1%20analysis/Untitled-1.ipynb#ch0000007?line=53'>54</a>\u001b[0m average_time \u001b[39m=\u001b[39m mean(average_time) \u001b[39mif\u001b[39;00m \u001b[39mlen\u001b[39m(lapped_position) \u001b[39m!=\u001b[39m \u001b[39m0\u001b[39m \u001b[39melse\u001b[39;00m \u001b[39m-\u001b[39m\u001b[39m1\u001b[39m\n\u001b[0;32m     <a href='vscode-notebook-cell:/c%3A/repos/project1/F1%20analysis/Untitled-1.ipynb#ch0000007?line=56'>57</a>\u001b[0m \u001b[39m#adding values to output\u001b[39;00m\n",
      "\u001b[1;31mTypeError\u001b[0m: object of type 'float' has no len()"
     ]
    }
   ],
   "source": [
    "for YEAR in YEARS:\n",
    "    output_df = get_race_results_by_year(YEAR, output_df)\n",
    "output_df"
   ]
  },
  {
   "cell_type": "code",
   "execution_count": 70,
   "metadata": {},
   "outputs": [],
   "source": [
    "output_df"
   ]
  }
 ],
 "metadata": {
  "kernelspec": {
   "display_name": "Python 3.9.3 64-bit",
   "language": "python",
   "name": "python3"
  },
  "language_info": {
   "codemirror_mode": {
    "name": "ipython",
    "version": 3
   },
   "file_extension": ".py",
   "mimetype": "text/x-python",
   "name": "python",
   "nbconvert_exporter": "python",
   "pygments_lexer": "ipython3",
   "version": "3.9.3"
  },
  "orig_nbformat": 4,
  "vscode": {
   "interpreter": {
    "hash": "59cd1b241e02d6eb64a3514a5541a126f77c2701f18d3f0a5676651af87bd446"
   }
  }
 },
 "nbformat": 4,
 "nbformat_minor": 2
}
